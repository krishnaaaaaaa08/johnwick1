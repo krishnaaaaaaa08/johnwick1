{
 "cells": [
  {
   "cell_type": "code",
   "execution_count": 14,
   "id": "bb525478",
   "metadata": {},
   "outputs": [],
   "source": [
    "import numpy as np\n",
    "import pandas as pd\n",
    "import matplotlib.pyplot as plt"
   ]
  },
  {
   "cell_type": "code",
   "execution_count": 15,
   "id": "9987191b",
   "metadata": {},
   "outputs": [],
   "source": [
    "df=pd.read_csv('TCS.NS.csv',index_col=0,parse_dates=True)"
   ]
  },
  {
   "cell_type": "code",
   "execution_count": 16,
   "id": "4e7f9ed4",
   "metadata": {},
   "outputs": [
    {
     "data": {
      "text/html": [
       "<div>\n",
       "<style scoped>\n",
       "    .dataframe tbody tr th:only-of-type {\n",
       "        vertical-align: middle;\n",
       "    }\n",
       "\n",
       "    .dataframe tbody tr th {\n",
       "        vertical-align: top;\n",
       "    }\n",
       "\n",
       "    .dataframe thead th {\n",
       "        text-align: right;\n",
       "    }\n",
       "</style>\n",
       "<table border=\"1\" class=\"dataframe\">\n",
       "  <thead>\n",
       "    <tr style=\"text-align: right;\">\n",
       "      <th></th>\n",
       "      <th>Open</th>\n",
       "      <th>High</th>\n",
       "      <th>Low</th>\n",
       "      <th>Close</th>\n",
       "      <th>Adj Close</th>\n",
       "      <th>Volume</th>\n",
       "      <th>Direction</th>\n",
       "    </tr>\n",
       "    <tr>\n",
       "      <th>Date</th>\n",
       "      <th></th>\n",
       "      <th></th>\n",
       "      <th></th>\n",
       "      <th></th>\n",
       "      <th></th>\n",
       "      <th></th>\n",
       "      <th></th>\n",
       "    </tr>\n",
       "  </thead>\n",
       "  <tbody>\n",
       "    <tr>\n",
       "      <th>2015-11-18</th>\n",
       "      <td>1194.449951</td>\n",
       "      <td>1194.449951</td>\n",
       "      <td>1173.000000</td>\n",
       "      <td>1175.719971</td>\n",
       "      <td>1038.072876</td>\n",
       "      <td>1520352.0</td>\n",
       "      <td>NaN</td>\n",
       "    </tr>\n",
       "    <tr>\n",
       "      <th>2015-11-19</th>\n",
       "      <td>1182.680054</td>\n",
       "      <td>1190.800049</td>\n",
       "      <td>1176.000000</td>\n",
       "      <td>1181.280029</td>\n",
       "      <td>1042.982178</td>\n",
       "      <td>1866906.0</td>\n",
       "      <td>UP</td>\n",
       "    </tr>\n",
       "    <tr>\n",
       "      <th>2015-11-20</th>\n",
       "      <td>1183.250000</td>\n",
       "      <td>1211.780029</td>\n",
       "      <td>1180.969971</td>\n",
       "      <td>1199.180054</td>\n",
       "      <td>1058.786377</td>\n",
       "      <td>2012126.0</td>\n",
       "      <td>UP</td>\n",
       "    </tr>\n",
       "    <tr>\n",
       "      <th>2015-11-23</th>\n",
       "      <td>1202.650024</td>\n",
       "      <td>1206.699951</td>\n",
       "      <td>1191.119995</td>\n",
       "      <td>1195.530029</td>\n",
       "      <td>1055.563843</td>\n",
       "      <td>1088082.0</td>\n",
       "      <td>DOWN</td>\n",
       "    </tr>\n",
       "    <tr>\n",
       "      <th>2015-11-24</th>\n",
       "      <td>1190.030029</td>\n",
       "      <td>1196.219971</td>\n",
       "      <td>1182.750000</td>\n",
       "      <td>1183.969971</td>\n",
       "      <td>1045.357300</td>\n",
       "      <td>998640.0</td>\n",
       "      <td>DOWN</td>\n",
       "    </tr>\n",
       "  </tbody>\n",
       "</table>\n",
       "</div>"
      ],
      "text/plain": [
       "                   Open         High          Low        Close    Adj Close  \\\n",
       "Date                                                                          \n",
       "2015-11-18  1194.449951  1194.449951  1173.000000  1175.719971  1038.072876   \n",
       "2015-11-19  1182.680054  1190.800049  1176.000000  1181.280029  1042.982178   \n",
       "2015-11-20  1183.250000  1211.780029  1180.969971  1199.180054  1058.786377   \n",
       "2015-11-23  1202.650024  1206.699951  1191.119995  1195.530029  1055.563843   \n",
       "2015-11-24  1190.030029  1196.219971  1182.750000  1183.969971  1045.357300   \n",
       "\n",
       "               Volume Direction  \n",
       "Date                             \n",
       "2015-11-18  1520352.0       NaN  \n",
       "2015-11-19  1866906.0        UP  \n",
       "2015-11-20  2012126.0        UP  \n",
       "2015-11-23  1088082.0      DOWN  \n",
       "2015-11-24   998640.0      DOWN  "
      ]
     },
     "execution_count": 16,
     "metadata": {},
     "output_type": "execute_result"
    }
   ],
   "source": [
    "df.head()"
   ]
  },
  {
   "cell_type": "code",
   "execution_count": 17,
   "id": "9a79fbd8",
   "metadata": {},
   "outputs": [
    {
     "data": {
      "text/html": [
       "<div>\n",
       "<style scoped>\n",
       "    .dataframe tbody tr th:only-of-type {\n",
       "        vertical-align: middle;\n",
       "    }\n",
       "\n",
       "    .dataframe tbody tr th {\n",
       "        vertical-align: top;\n",
       "    }\n",
       "\n",
       "    .dataframe thead th {\n",
       "        text-align: right;\n",
       "    }\n",
       "</style>\n",
       "<table border=\"1\" class=\"dataframe\">\n",
       "  <thead>\n",
       "    <tr style=\"text-align: right;\">\n",
       "      <th></th>\n",
       "      <th>Open</th>\n",
       "      <th>High</th>\n",
       "      <th>Low</th>\n",
       "      <th>Close</th>\n",
       "      <th>Adj Close</th>\n",
       "      <th>Volume</th>\n",
       "      <th>Direction</th>\n",
       "    </tr>\n",
       "    <tr>\n",
       "      <th>Date</th>\n",
       "      <th></th>\n",
       "      <th></th>\n",
       "      <th></th>\n",
       "      <th></th>\n",
       "      <th></th>\n",
       "      <th></th>\n",
       "      <th></th>\n",
       "    </tr>\n",
       "  </thead>\n",
       "  <tbody>\n",
       "    <tr>\n",
       "      <th>2020-10-11</th>\n",
       "      <td>2697.199951</td>\n",
       "      <td>2713.149902</td>\n",
       "      <td>2638.350098</td>\n",
       "      <td>2649.600098</td>\n",
       "      <td>2649.600098</td>\n",
       "      <td>4760020.0</td>\n",
       "      <td>DOWN</td>\n",
       "    </tr>\n",
       "    <tr>\n",
       "      <th>2020-11-11</th>\n",
       "      <td>2667.949951</td>\n",
       "      <td>2692.800049</td>\n",
       "      <td>2643.399902</td>\n",
       "      <td>2687.800049</td>\n",
       "      <td>2687.800049</td>\n",
       "      <td>3242441.0</td>\n",
       "      <td>UP</td>\n",
       "    </tr>\n",
       "    <tr>\n",
       "      <th>2020-12-11</th>\n",
       "      <td>2686.000000</td>\n",
       "      <td>2713.000000</td>\n",
       "      <td>2661.750000</td>\n",
       "      <td>2671.050049</td>\n",
       "      <td>2671.050049</td>\n",
       "      <td>2437505.0</td>\n",
       "      <td>DOWN</td>\n",
       "    </tr>\n",
       "    <tr>\n",
       "      <th>2020-11-13</th>\n",
       "      <td>2655.750000</td>\n",
       "      <td>2664.899902</td>\n",
       "      <td>2636.000000</td>\n",
       "      <td>2656.850098</td>\n",
       "      <td>2656.850098</td>\n",
       "      <td>2548093.0</td>\n",
       "      <td>DOWN</td>\n",
       "    </tr>\n",
       "    <tr>\n",
       "      <th>2020-11-17</th>\n",
       "      <td>2695.000000</td>\n",
       "      <td>2695.000000</td>\n",
       "      <td>2650.050049</td>\n",
       "      <td>2666.050049</td>\n",
       "      <td>2666.050049</td>\n",
       "      <td>2827273.0</td>\n",
       "      <td>UP</td>\n",
       "    </tr>\n",
       "  </tbody>\n",
       "</table>\n",
       "</div>"
      ],
      "text/plain": [
       "                   Open         High          Low        Close    Adj Close  \\\n",
       "Date                                                                          \n",
       "2020-10-11  2697.199951  2713.149902  2638.350098  2649.600098  2649.600098   \n",
       "2020-11-11  2667.949951  2692.800049  2643.399902  2687.800049  2687.800049   \n",
       "2020-12-11  2686.000000  2713.000000  2661.750000  2671.050049  2671.050049   \n",
       "2020-11-13  2655.750000  2664.899902  2636.000000  2656.850098  2656.850098   \n",
       "2020-11-17  2695.000000  2695.000000  2650.050049  2666.050049  2666.050049   \n",
       "\n",
       "               Volume Direction  \n",
       "Date                             \n",
       "2020-10-11  4760020.0      DOWN  \n",
       "2020-11-11  3242441.0        UP  \n",
       "2020-12-11  2437505.0      DOWN  \n",
       "2020-11-13  2548093.0      DOWN  \n",
       "2020-11-17  2827273.0        UP  "
      ]
     },
     "execution_count": 17,
     "metadata": {},
     "output_type": "execute_result"
    }
   ],
   "source": [
    "df.tail()"
   ]
  },
  {
   "cell_type": "code",
   "execution_count": 18,
   "id": "90ece4b8",
   "metadata": {},
   "outputs": [
    {
     "data": {
      "text/plain": [
       "1233"
      ]
     },
     "execution_count": 18,
     "metadata": {},
     "output_type": "execute_result"
    }
   ],
   "source": [
    "len(df)"
   ]
  },
  {
   "cell_type": "code",
   "execution_count": 19,
   "id": "1886cbdf",
   "metadata": {},
   "outputs": [],
   "source": [
    "df.dropna(axis=0,inplace=True)"
   ]
  },
  {
   "cell_type": "code",
   "execution_count": 20,
   "id": "d8717a0b",
   "metadata": {},
   "outputs": [],
   "source": [
    "df['bnh_returns_log_ret']=np.log(df['Adj Close']/df['Adj Close'].shift(1))"
   ]
  },
  {
   "cell_type": "code",
   "execution_count": 21,
   "id": "b51c9221",
   "metadata": {},
   "outputs": [],
   "source": [
    "df[\"indicator\"]=np.where(df['bnh_returns_log_ret']>0,\"positive\",0)\n",
    "df[\"indicator\"]=np.where(df['bnh_returns_log_ret']<0,\"negative\",df[\"indicator\"])"
   ]
  },
  {
   "cell_type": "code",
   "execution_count": 22,
   "id": "8759b84f",
   "metadata": {},
   "outputs": [
    {
     "data": {
      "text/html": [
       "<div>\n",
       "<style scoped>\n",
       "    .dataframe tbody tr th:only-of-type {\n",
       "        vertical-align: middle;\n",
       "    }\n",
       "\n",
       "    .dataframe tbody tr th {\n",
       "        vertical-align: top;\n",
       "    }\n",
       "\n",
       "    .dataframe thead th {\n",
       "        text-align: right;\n",
       "    }\n",
       "</style>\n",
       "<table border=\"1\" class=\"dataframe\">\n",
       "  <thead>\n",
       "    <tr style=\"text-align: right;\">\n",
       "      <th></th>\n",
       "      <th>Open</th>\n",
       "      <th>High</th>\n",
       "      <th>Low</th>\n",
       "      <th>Close</th>\n",
       "      <th>Adj Close</th>\n",
       "      <th>Volume</th>\n",
       "      <th>Direction</th>\n",
       "      <th>bnh_returns_log_ret</th>\n",
       "      <th>indicator</th>\n",
       "    </tr>\n",
       "    <tr>\n",
       "      <th>Date</th>\n",
       "      <th></th>\n",
       "      <th></th>\n",
       "      <th></th>\n",
       "      <th></th>\n",
       "      <th></th>\n",
       "      <th></th>\n",
       "      <th></th>\n",
       "      <th></th>\n",
       "      <th></th>\n",
       "    </tr>\n",
       "  </thead>\n",
       "  <tbody>\n",
       "    <tr>\n",
       "      <th>2015-11-19</th>\n",
       "      <td>1182.680054</td>\n",
       "      <td>1190.800049</td>\n",
       "      <td>1176.000000</td>\n",
       "      <td>1181.280029</td>\n",
       "      <td>1042.982178</td>\n",
       "      <td>1866906.0</td>\n",
       "      <td>UP</td>\n",
       "      <td>NaN</td>\n",
       "      <td>0</td>\n",
       "    </tr>\n",
       "    <tr>\n",
       "      <th>2015-11-20</th>\n",
       "      <td>1183.250000</td>\n",
       "      <td>1211.780029</td>\n",
       "      <td>1180.969971</td>\n",
       "      <td>1199.180054</td>\n",
       "      <td>1058.786377</td>\n",
       "      <td>2012126.0</td>\n",
       "      <td>UP</td>\n",
       "      <td>0.015039</td>\n",
       "      <td>positive</td>\n",
       "    </tr>\n",
       "    <tr>\n",
       "      <th>2015-11-23</th>\n",
       "      <td>1202.650024</td>\n",
       "      <td>1206.699951</td>\n",
       "      <td>1191.119995</td>\n",
       "      <td>1195.530029</td>\n",
       "      <td>1055.563843</td>\n",
       "      <td>1088082.0</td>\n",
       "      <td>DOWN</td>\n",
       "      <td>-0.003048</td>\n",
       "      <td>negative</td>\n",
       "    </tr>\n",
       "    <tr>\n",
       "      <th>2015-11-24</th>\n",
       "      <td>1190.030029</td>\n",
       "      <td>1196.219971</td>\n",
       "      <td>1182.750000</td>\n",
       "      <td>1183.969971</td>\n",
       "      <td>1045.357300</td>\n",
       "      <td>998640.0</td>\n",
       "      <td>DOWN</td>\n",
       "      <td>-0.009716</td>\n",
       "      <td>negative</td>\n",
       "    </tr>\n",
       "    <tr>\n",
       "      <th>2015-11-26</th>\n",
       "      <td>1188.949951</td>\n",
       "      <td>1191.199951</td>\n",
       "      <td>1168.930054</td>\n",
       "      <td>1172.780029</td>\n",
       "      <td>1035.477173</td>\n",
       "      <td>2915292.0</td>\n",
       "      <td>DOWN</td>\n",
       "      <td>-0.009496</td>\n",
       "      <td>negative</td>\n",
       "    </tr>\n",
       "  </tbody>\n",
       "</table>\n",
       "</div>"
      ],
      "text/plain": [
       "                   Open         High          Low        Close    Adj Close  \\\n",
       "Date                                                                          \n",
       "2015-11-19  1182.680054  1190.800049  1176.000000  1181.280029  1042.982178   \n",
       "2015-11-20  1183.250000  1211.780029  1180.969971  1199.180054  1058.786377   \n",
       "2015-11-23  1202.650024  1206.699951  1191.119995  1195.530029  1055.563843   \n",
       "2015-11-24  1190.030029  1196.219971  1182.750000  1183.969971  1045.357300   \n",
       "2015-11-26  1188.949951  1191.199951  1168.930054  1172.780029  1035.477173   \n",
       "\n",
       "               Volume Direction  bnh_returns_log_ret indicator  \n",
       "Date                                                            \n",
       "2015-11-19  1866906.0        UP                  NaN         0  \n",
       "2015-11-20  2012126.0        UP             0.015039  positive  \n",
       "2015-11-23  1088082.0      DOWN            -0.003048  negative  \n",
       "2015-11-24   998640.0      DOWN            -0.009716  negative  \n",
       "2015-11-26  2915292.0      DOWN            -0.009496  negative  "
      ]
     },
     "execution_count": 22,
     "metadata": {},
     "output_type": "execute_result"
    }
   ],
   "source": [
    "df.head()"
   ]
  },
  {
   "cell_type": "code",
   "execution_count": 24,
   "id": "38f2d051",
   "metadata": {},
   "outputs": [
    {
     "data": {
      "text/plain": [
       "positive    642\n",
       "negative    585\n",
       "0             4\n",
       "Name: indicator, dtype: int64"
      ]
     },
     "execution_count": 24,
     "metadata": {},
     "output_type": "execute_result"
    }
   ],
   "source": [
    "df[\"indicator\"].value_counts()"
   ]
  },
  {
   "cell_type": "code",
   "execution_count": 25,
   "id": "339f4e2a",
   "metadata": {},
   "outputs": [],
   "source": [
    "import numpy as np"
   ]
  },
  {
   "cell_type": "code",
   "execution_count": 26,
   "id": "e529fc98",
   "metadata": {},
   "outputs": [],
   "source": [
    "np.random.seed(1234)"
   ]
  },
  {
   "cell_type": "code",
   "execution_count": 27,
   "id": "734aa317",
   "metadata": {},
   "outputs": [],
   "source": [
    "numbers=np.random.uniform(0,1,24)"
   ]
  },
  {
   "cell_type": "code",
   "execution_count": 28,
   "id": "ac51e837",
   "metadata": {},
   "outputs": [
    {
     "data": {
      "text/plain": [
       "array([0.19151945, 0.62210877, 0.43772774, 0.78535858, 0.77997581,\n",
       "       0.27259261, 0.27646426, 0.80187218, 0.95813935, 0.87593263,\n",
       "       0.35781727, 0.50099513, 0.68346294, 0.71270203, 0.37025075,\n",
       "       0.56119619, 0.50308317, 0.01376845, 0.77282662, 0.88264119,\n",
       "       0.36488598, 0.61539618, 0.07538124, 0.36882401])"
      ]
     },
     "execution_count": 28,
     "metadata": {},
     "output_type": "execute_result"
    }
   ],
   "source": [
    "numbers"
   ]
  },
  {
   "cell_type": "code",
   "execution_count": 29,
   "id": "346c2c23",
   "metadata": {},
   "outputs": [
    {
     "name": "stdout",
     "output_type": "stream",
     "text": [
      "[0.19151945 0.62210877 0.43772774 0.78535858 0.77997581 0.27259261\n",
      " 0.27646426 0.80187218 0.95813935 0.87593263 0.35781727 0.50099513\n",
      " 0.68346294 0.71270203 0.37025075 0.56119619 0.50308317 0.01376845\n",
      " 0.77282662 0.88264119 0.36488598 0.61539618 0.07538124 0.36882401]\n"
     ]
    }
   ],
   "source": [
    "print(numbers)"
   ]
  },
  {
   "cell_type": "code",
   "execution_count": 30,
   "id": "2f0837de",
   "metadata": {},
   "outputs": [
    {
     "data": {
      "text/plain": [
       "24"
      ]
     },
     "execution_count": 30,
     "metadata": {},
     "output_type": "execute_result"
    }
   ],
   "source": [
    "len(numbers)"
   ]
  },
  {
   "cell_type": "code",
   "execution_count": 31,
   "id": "7de32d28",
   "metadata": {},
   "outputs": [
    {
     "data": {
      "text/plain": [
       "0.013768449590682241"
      ]
     },
     "execution_count": 31,
     "metadata": {},
     "output_type": "execute_result"
    }
   ],
   "source": [
    "np.min(numbers)"
   ]
  },
  {
   "cell_type": "code",
   "execution_count": 32,
   "id": "05869451",
   "metadata": {},
   "outputs": [
    {
     "data": {
      "text/plain": [
       "0.9581393536837052"
      ]
     },
     "execution_count": 32,
     "metadata": {},
     "output_type": "execute_result"
    }
   ],
   "source": [
    "np.max(numbers)"
   ]
  },
  {
   "cell_type": "code",
   "execution_count": 33,
   "id": "8cac47c1",
   "metadata": {},
   "outputs": [
    {
     "data": {
      "text/plain": [
       "array([0.36488598, 0.61539618, 0.07538124, 0.36882401])"
      ]
     },
     "execution_count": 33,
     "metadata": {},
     "output_type": "execute_result"
    }
   ],
   "source": [
    "numbers[20:24]"
   ]
  },
  {
   "cell_type": "code",
   "execution_count": 35,
   "id": "36f8dbff",
   "metadata": {},
   "outputs": [
    {
     "data": {
      "image/png": "[encoded data removed]",
      "text/plain": [
       "<Figure size 720x432 with 1 Axes>"
      ]
     },
     "metadata": {
      "needs_background": "light"
     },
     "output_type": "display_data"
    }
   ],
   "source": [
    "plt.figure(figsize=(10,6))\n",
    "plt.hist(df['bnh_returns_log_ret'])\n",
    "plt.title('HISTOGRAM OF LOG RETURNS')\n",
    "plt.ylabel('frequency')\n",
    "plt.xlabel('bnh_returns_log_ret')\n",
    "plt.show()"
   ]
  },
  {
   "cell_type": "code",
   "execution_count": 42,
   "id": "498b53a0",
   "metadata": {
    "scrolled": true
   },
   "outputs": [
    {
     "data": {
      "image/png": "[encoded data removed]",
      "text/plain": [
       "<Figure size 1152x720 with 1 Axes>"
      ]
     },
     "metadata": {
      "needs_background": "light"
     },
     "output_type": "display_data"
    }
   ],
   "source": [
    "plt.figure(figsize=(16,10))\n",
    "plt.scatter(df['Open'],df['Close'])\n",
    "plt.title('scatter plot of the log returns')\n",
    "plt.ylabel('Close')\n",
    "plt.xlabel('Open')\n",
    "plt.show()"
   ]
  },
  {
   "cell_type": "code",
   "execution_count": 48,
   "id": "38c57e04",
   "metadata": {},
   "outputs": [],
   "source": [
    "df['20_day_sma']=df['Adj Close'].rolling(window=20,center=False).mean()"
   ]
  },
  {
   "cell_type": "code",
   "execution_count": 46,
   "id": "eb76abf4",
   "metadata": {},
   "outputs": [],
   "source": [
    "df['20_day_sma']=df['Adj Close'].rolling(window=20,center=False).mean() #rolling moving average of the adj close 20 days"
   ]
  },
  {
   "cell_type": "code",
   "execution_count": 49,
   "id": "24c608b7",
   "metadata": {},
   "outputs": [],
   "source": [
    "df['20_day_std']=df['Adj Close'].rolling(window=20,center=False).std()"
   ]
  },
  {
   "cell_type": "code",
   "execution_count": 50,
   "id": "0cd6d0ae",
   "metadata": {},
   "outputs": [
    {
     "data": {
      "text/html": [
       "<div>\n",
       "<style scoped>\n",
       "    .dataframe tbody tr th:only-of-type {\n",
       "        vertical-align: middle;\n",
       "    }\n",
       "\n",
       "    .dataframe tbody tr th {\n",
       "        vertical-align: top;\n",
       "    }\n",
       "\n",
       "    .dataframe thead th {\n",
       "        text-align: right;\n",
       "    }\n",
       "</style>\n",
       "<table border=\"1\" class=\"dataframe\">\n",
       "  <thead>\n",
       "    <tr style=\"text-align: right;\">\n",
       "      <th></th>\n",
       "      <th>Open</th>\n",
       "      <th>High</th>\n",
       "      <th>Low</th>\n",
       "      <th>Close</th>\n",
       "      <th>Adj Close</th>\n",
       "      <th>Volume</th>\n",
       "      <th>Direction</th>\n",
       "      <th>bnh_returns_log_ret</th>\n",
       "      <th>indicator</th>\n",
       "      <th>20_day_sma</th>\n",
       "      <th>20_day_std</th>\n",
       "    </tr>\n",
       "    <tr>\n",
       "      <th>Date</th>\n",
       "      <th></th>\n",
       "      <th></th>\n",
       "      <th></th>\n",
       "      <th></th>\n",
       "      <th></th>\n",
       "      <th></th>\n",
       "      <th></th>\n",
       "      <th></th>\n",
       "      <th></th>\n",
       "      <th></th>\n",
       "      <th></th>\n",
       "    </tr>\n",
       "  </thead>\n",
       "  <tbody>\n",
       "    <tr>\n",
       "      <th>2020-10-11</th>\n",
       "      <td>2697.199951</td>\n",
       "      <td>2713.149902</td>\n",
       "      <td>2638.350098</td>\n",
       "      <td>2649.600098</td>\n",
       "      <td>2649.600098</td>\n",
       "      <td>4760020.0</td>\n",
       "      <td>DOWN</td>\n",
       "      <td>-0.028647</td>\n",
       "      <td>negative</td>\n",
       "      <td>2684.807507</td>\n",
       "      <td>52.502005</td>\n",
       "    </tr>\n",
       "    <tr>\n",
       "      <th>2020-11-11</th>\n",
       "      <td>2667.949951</td>\n",
       "      <td>2692.800049</td>\n",
       "      <td>2643.399902</td>\n",
       "      <td>2687.800049</td>\n",
       "      <td>2687.800049</td>\n",
       "      <td>3242441.0</td>\n",
       "      <td>UP</td>\n",
       "      <td>0.014314</td>\n",
       "      <td>positive</td>\n",
       "      <td>2678.717505</td>\n",
       "      <td>43.568912</td>\n",
       "    </tr>\n",
       "    <tr>\n",
       "      <th>2020-12-11</th>\n",
       "      <td>2686.000000</td>\n",
       "      <td>2713.000000</td>\n",
       "      <td>2661.750000</td>\n",
       "      <td>2671.050049</td>\n",
       "      <td>2671.050049</td>\n",
       "      <td>2437505.0</td>\n",
       "      <td>DOWN</td>\n",
       "      <td>-0.006251</td>\n",
       "      <td>negative</td>\n",
       "      <td>2675.240002</td>\n",
       "      <td>41.073891</td>\n",
       "    </tr>\n",
       "    <tr>\n",
       "      <th>2020-11-13</th>\n",
       "      <td>2655.750000</td>\n",
       "      <td>2664.899902</td>\n",
       "      <td>2636.000000</td>\n",
       "      <td>2656.850098</td>\n",
       "      <td>2656.850098</td>\n",
       "      <td>2548093.0</td>\n",
       "      <td>DOWN</td>\n",
       "      <td>-0.005330</td>\n",
       "      <td>negative</td>\n",
       "      <td>2669.917505</td>\n",
       "      <td>35.593659</td>\n",
       "    </tr>\n",
       "    <tr>\n",
       "      <th>2020-11-17</th>\n",
       "      <td>2695.000000</td>\n",
       "      <td>2695.000000</td>\n",
       "      <td>2650.050049</td>\n",
       "      <td>2666.050049</td>\n",
       "      <td>2666.050049</td>\n",
       "      <td>2827273.0</td>\n",
       "      <td>UP</td>\n",
       "      <td>0.003457</td>\n",
       "      <td>positive</td>\n",
       "      <td>2667.642505</td>\n",
       "      <td>34.220214</td>\n",
       "    </tr>\n",
       "  </tbody>\n",
       "</table>\n",
       "</div>"
      ],
      "text/plain": [
       "                   Open         High          Low        Close    Adj Close  \\\n",
       "Date                                                                          \n",
       "2020-10-11  2697.199951  2713.149902  2638.350098  2649.600098  2649.600098   \n",
       "2020-11-11  2667.949951  2692.800049  2643.399902  2687.800049  2687.800049   \n",
       "2020-12-11  2686.000000  2713.000000  2661.750000  2671.050049  2671.050049   \n",
       "2020-11-13  2655.750000  2664.899902  2636.000000  2656.850098  2656.850098   \n",
       "2020-11-17  2695.000000  2695.000000  2650.050049  2666.050049  2666.050049   \n",
       "\n",
       "               Volume Direction  bnh_returns_log_ret indicator   20_day_sma  \\\n",
       "Date                                                                          \n",
       "2020-10-11  4760020.0      DOWN            -0.028647  negative  2684.807507   \n",
       "2020-11-11  3242441.0        UP             0.014314  positive  2678.717505   \n",
       "2020-12-11  2437505.0      DOWN            -0.006251  negative  2675.240002   \n",
       "2020-11-13  2548093.0      DOWN            -0.005330  negative  2669.917505   \n",
       "2020-11-17  2827273.0        UP             0.003457  positive  2667.642505   \n",
       "\n",
       "            20_day_std  \n",
       "Date                    \n",
       "2020-10-11   52.502005  \n",
       "2020-11-11   43.568912  \n",
       "2020-12-11   41.073891  \n",
       "2020-11-13   35.593659  \n",
       "2020-11-17   34.220214  "
      ]
     },
     "execution_count": 50,
     "metadata": {},
     "output_type": "execute_result"
    }
   ],
   "source": [
    "df.tail()"
   ]
  },
  {
   "cell_type": "code",
   "execution_count": null,
   "id": "d64fcb2a",
   "metadata": {},
   "outputs": [],
   "source": []
  }
 ],
 "metadata": {
  "kernelspec": {
   "display_name": "Python 3 (ipykernel)",
   "language": "python",
   "name": "python3"
  },
  "language_info": {
   "codemirror_mode": {
    "name": "ipython",
    "version": 3
   },
   "file_extension": ".py",
   "mimetype": "text/x-python",
   "name": "python",
   "nbconvert_exporter": "python",
   "pygments_lexer": "ipython3",
   "version": "3.9.12"
  }
 },
 "nbformat": 4,
 "nbformat_minor": 5
}
